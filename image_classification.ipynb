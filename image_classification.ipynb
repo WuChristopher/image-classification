{
 "cells": [
  {
   "cell_type": "markdown",
   "metadata": {
    "collapsed": true
   },
   "source": [
    "# Image Classification\n",
    "In this project, you'll classify images from the [CIFAR-10 dataset](https://www.cs.toronto.edu/~kriz/cifar.html).  The dataset consists of airplanes, dogs, cats, and other objects. You'll preprocess the images, then train a convolutional neural network on all the samples. The images need to be normalized and the labels need to be one-hot encoded.  You'll get to apply what you learned and build a convolutional, max pooling, dropout, and fully connected layers.  At the end, you'll get to see your neural network's predictions on the sample images.\n",
    "## Get the Data\n",
    "Run the following cell to download the [CIFAR-10 dataset for python](https://www.cs.toronto.edu/~kriz/cifar-10-python.tar.gz)."
   ]
  },
  {
   "cell_type": "code",
   "execution_count": 2,
   "metadata": {},
   "outputs": [
    {
     "name": "stdout",
     "output_type": "stream",
     "text": [
      "All files found!\n"
     ]
    }
   ],
   "source": [
    "\"\"\"\n",
    "DON'T MODIFY ANYTHING IN THIS CELL THAT IS BELOW THIS LINE\n",
    "\"\"\"\n",
    "from urllib.request import urlretrieve\n",
    "from os.path import isfile, isdir\n",
    "from tqdm import tqdm\n",
    "import problem_unittests as tests\n",
    "import tarfile\n",
    "\n",
    "cifar10_dataset_folder_path = 'cifar-10-batches-py'\n",
    "\n",
    "class DLProgress(tqdm):\n",
    "    last_block = 0\n",
    "\n",
    "    def hook(self, block_num=1, block_size=1, total_size=None):\n",
    "        self.total = total_size\n",
    "        self.update((block_num - self.last_block) * block_size)\n",
    "        self.last_block = block_num\n",
    "\n",
    "if not isfile('cifar-10-python.tar.gz'):\n",
    "    with DLProgress(unit='B', unit_scale=True, miniters=1, desc='CIFAR-10 Dataset') as pbar:\n",
    "        urlretrieve(\n",
    "            'https://www.cs.toronto.edu/~kriz/cifar-10-python.tar.gz',\n",
    "            'cifar-10-python.tar.gz',\n",
    "            pbar.hook)\n",
    "\n",
    "if not isdir(cifar10_dataset_folder_path):\n",
    "    with tarfile.open('cifar-10-python.tar.gz') as tar:\n",
    "        tar.extractall()\n",
    "        tar.close()\n",
    "\n",
    "\n",
    "tests.test_folder_path(cifar10_dataset_folder_path)"
   ]
  },
  {
   "cell_type": "markdown",
   "metadata": {},
   "source": [
    "## Explore the Data\n",
    "The dataset is broken into batches to prevent your machine from running out of memory.  The CIFAR-10 dataset consists of 5 batches, named `data_batch_1`, `data_batch_2`, etc.. Each batch contains the labels and images that are one of the following:\n",
    "* airplane\n",
    "* automobile\n",
    "* bird\n",
    "* cat\n",
    "* deer\n",
    "* dog\n",
    "* frog\n",
    "* horse\n",
    "* ship\n",
    "* truck\n",
    "\n",
    "Understanding a dataset is part of making predictions on the data.  Play around with the code cell below by changing the `batch_id` and `sample_id`. The `batch_id` is the id for a batch (1-5). The `sample_id` is the id for a image and label pair in the batch.\n",
    "\n",
    "Ask yourself \"What are all possible labels?\", \"What is the range of values for the image data?\", \"Are the labels in order or random?\".  Answers to questions like these will help you preprocess the data and end up with better predictions."
   ]
  },
  {
   "cell_type": "code",
   "execution_count": 3,
   "metadata": {},
   "outputs": [
    {
     "name": "stdout",
     "output_type": "stream",
     "text": [
      "\n",
      "Stats of batch 3:\n",
      "Samples: 10000\n",
      "Label Counts: {0: 994, 1: 1042, 2: 965, 3: 997, 4: 990, 5: 1029, 6: 978, 7: 1015, 8: 961, 9: 1029}\n",
      "First 20 Labels: [8, 5, 0, 6, 9, 2, 8, 3, 6, 2, 7, 4, 6, 9, 0, 0, 7, 3, 7, 2]\n",
      "\n",
      "Example of Image 100:\n",
      "Image - Min Value: 4 Max Value: 255\n",
      "Image - Shape: (32, 32, 3)\n",
      "Label - Label Id: 8 Name: ship\n"
     ]
    },
    {
     "data": {
      "image/png": "[encoded data removed]",
      "text/plain": [
       "<matplotlib.figure.Figure at 0x10ae50160>"
      ]
     },
     "metadata": {
      "image/png": {
       "height": 250,
       "width": 253
      }
     },
     "output_type": "display_data"
    }
   ],
   "source": [
    "%matplotlib inline\n",
    "%config InlineBackend.figure_format = 'retina'\n",
    "\n",
    "import helper\n",
    "import numpy as np\n",
    "\n",
    "# Explore the dataset\n",
    "batch_id = 3\n",
    "sample_id = 100\n",
    "helper.display_stats(cifar10_dataset_folder_path, batch_id, sample_id)"
   ]
  },
  {
   "cell_type": "markdown",
   "metadata": {},
   "source": [
    "## Implement Preprocess Functions\n",
    "### Normalize\n",
    "In the cell below, implement the `normalize` function to take in image data, `x`, and return it as a normalized Numpy array. The values should be in the range of 0 to 1, inclusive.  The return object should be the same shape as `x`."
   ]
  },
  {
   "cell_type": "code",
   "execution_count": 4,
   "metadata": {},
   "outputs": [
    {
     "name": "stdout",
     "output_type": "stream",
     "text": [
      "Tests Passed\n"
     ]
    }
   ],
   "source": [
    "def normalize(x):\n",
    "    \"\"\"\n",
    "    Normalize a list of sample image data in the range of 0 to 1\n",
    "    : x: List of image data.  The image shape is (32, 32, 3)\n",
    "    : return: Numpy array of normalize data\n",
    "    \"\"\"\n",
    "    # TODO: Implement Function\n",
    "    normalized = []\n",
    "    for data in x:\n",
    "        data = np.reshape(data, (1, 32*32*3))\n",
    "        maxVal = data.max()\n",
    "        minVal = data.min()\n",
    "        data = (data - minVal)/(maxVal - minVal)\n",
    "        data = np.reshape(data, (32, 32, 3))\n",
    "        normalized.append(data)\n",
    "    return np.array(normalized)\n",
    "\n",
    "\n",
    "\"\"\"\n",
    "DON'T MODIFY ANYTHING IN THIS CELL THAT IS BELOW THIS LINE\n",
    "\"\"\"\n",
    "tests.test_normalize(normalize)"
   ]
  },
  {
   "cell_type": "markdown",
   "metadata": {},
   "source": [
    "### One-hot encode\n",
    "Just like the previous code cell, you'll be implementing a function for preprocessing.  This time, you'll implement the `one_hot_encode` function. The input, `x`, are a list of labels.  Implement the function to return the list of labels as One-Hot encoded Numpy array.  The possible values for labels are 0 to 9. The one-hot encoding function should return the same encoding for each value between each call to `one_hot_encode`.  Make sure to save the map of encodings outside the function.\n",
    "\n",
    "**Hint:**\n",
    "\n",
    "Look into LabelBinarizer in the preprocessing module of sklearn."
   ]
  },
  {
   "cell_type": "code",
   "execution_count": 6,
   "metadata": {},
   "outputs": [
    {
     "name": "stdout",
     "output_type": "stream",
     "text": [
      "Tests Passed\n"
     ]
    }
   ],
   "source": [
    "from sklearn.preprocessing import LabelBinarizer\n",
    "lb = LabelBinarizer()\n",
    "lb.fit(np.array([0, 1, 2, 3, 4, 5, 6, 7, 8, 9]))\n",
    "def one_hot_encode(x):\n",
    "    \"\"\"\n",
    "    One hot encode a list of sample labels. Return a one-hot encoded vector for each label.\n",
    "    : x: List of sample Labels\n",
    "    : return: Numpy array of one-hot encoded labels\n",
    "    \"\"\"\n",
    "    # TODO: Implement Function\n",
    "    return lb.transform(x)\n",
    "\n",
    "\n",
    "\"\"\"\n",
    "DON'T MODIFY ANYTHING IN THIS CELL THAT IS BELOW THIS LINE\n",
    "\"\"\"\n",
    "tests.test_one_hot_encode(one_hot_encode)"
   ]
  },
  {
   "cell_type": "markdown",
   "metadata": {},
   "source": [
    "### Randomize Data\n",
    "As you saw from exploring the data above, the order of the samples are randomized.  It doesn't hurt to randomize it again, but you don't need to for this dataset."
   ]
  },
  {
   "cell_type": "markdown",
   "metadata": {},
   "source": [
    "## Preprocess all the data and save it\n",
    "Running the code cell below will preprocess all the CIFAR-10 data and save it to file. The code below also uses 10% of the training data for validation."
   ]
  },
  {
   "cell_type": "code",
   "execution_count": 7,
   "metadata": {
    "collapsed": true
   },
   "outputs": [],
   "source": [
    "\"\"\"\n",
    "DON'T MODIFY ANYTHING IN THIS CELL\n",
    "\"\"\"\n",
    "# Preprocess Training, Validation, and Testing Data\n",
    "helper.preprocess_and_save_data(cifar10_dataset_folder_path, normalize, one_hot_encode)"
   ]
  },
  {
   "cell_type": "markdown",
   "metadata": {},
   "source": [
    "# Check Point\n",
    "This is your first checkpoint.  If you ever decide to come back to this notebook or have to restart the notebook, you can start from here.  The preprocessed data has been saved to disk."
   ]
  },
  {
   "cell_type": "code",
   "execution_count": 87,
   "metadata": {
    "collapsed": true
   },
   "outputs": [],
   "source": [
    "\"\"\"\n",
    "DON'T MODIFY ANYTHING IN THIS CELL\n",
    "\"\"\"\n",
    "import pickle\n",
    "import problem_unittests as tests\n",
    "import helper\n",
    "\n",
    "# Load the Preprocessed Validation data\n",
    "valid_features, valid_labels = pickle.load(open('preprocess_validation.p', mode='rb'))"
   ]
  },
  {
   "cell_type": "markdown",
   "metadata": {},
   "source": [
    "## Build the network\n",
    "For the neural network, you'll build each layer into a function.  Most of the code you've seen has been outside of functions. To test your code more thoroughly, we require that you put each layer in a function.  This allows us to give you better feedback and test for simple mistakes using our unittests before you submit your project.\n",
    "\n",
    ">**Note:** If you're finding it hard to dedicate enough time for this course each week, we've provided a small shortcut to this part of the project. In the next couple of problems, you'll have the option to use classes from the [TensorFlow Layers](https://www.tensorflow.org/api_docs/python/tf/layers) or [TensorFlow Layers (contrib)](https://www.tensorflow.org/api_guides/python/contrib.layers) packages to build each layer, except the layers you build in the \"Convolutional and Max Pooling Layer\" section.  TF Layers is similar to Keras's and TFLearn's abstraction to layers, so it's easy to pickup.\n",
    "\n",
    ">However, if you would like to get the most out of this course, try to solve all the problems _without_ using anything from the TF Layers packages. You **can** still use classes from other packages that happen to have the same name as ones you find in TF Layers! For example, instead of using the TF Layers version of the `conv2d` class, [tf.layers.conv2d](https://www.tensorflow.org/api_docs/python/tf/layers/conv2d), you would want to use the TF Neural Network version of `conv2d`, [tf.nn.conv2d](https://www.tensorflow.org/api_docs/python/tf/nn/conv2d). \n",
    "\n",
    "Let's begin!\n",
    "\n",
    "### Input\n",
    "The neural network needs to read the image data, one-hot encoded labels, and dropout keep probability. Implement the following functions\n",
    "* Implement `neural_net_image_input`\n",
    " * Return a [TF Placeholder](https://www.tensorflow.org/api_docs/python/tf/placeholder)\n",
    " * Set the shape using `image_shape` with batch size set to `None`.\n",
    " * Name the TensorFlow placeholder \"x\" using the TensorFlow `name` parameter in the [TF Placeholder](https://www.tensorflow.org/api_docs/python/tf/placeholder).\n",
    "* Implement `neural_net_label_input`\n",
    " * Return a [TF Placeholder](https://www.tensorflow.org/api_docs/python/tf/placeholder)\n",
    " * Set the shape using `n_classes` with batch size set to `None`.\n",
    " * Name the TensorFlow placeholder \"y\" using the TensorFlow `name` parameter in the [TF Placeholder](https://www.tensorflow.org/api_docs/python/tf/placeholder).\n",
    "* Implement `neural_net_keep_prob_input`\n",
    " * Return a [TF Placeholder](https://www.tensorflow.org/api_docs/python/tf/placeholder) for dropout keep probability.\n",
    " * Name the TensorFlow placeholder \"keep_prob\" using the TensorFlow `name` parameter in the [TF Placeholder](https://www.tensorflow.org/api_docs/python/tf/placeholder).\n",
    "\n",
    "These names will be used at the end of the project to load your saved model.\n",
    "\n",
    "Note: `None` for shapes in TensorFlow allow for a dynamic size."
   ]
  },
  {
   "cell_type": "code",
   "execution_count": 120,
   "metadata": {},
   "outputs": [
    {
     "name": "stdout",
     "output_type": "stream",
     "text": [
      "Image Input Tests Passed.\n",
      "Label Input Tests Passed.\n",
      "Keep Prob Tests Passed.\n"
     ]
    }
   ],
   "source": [
    "import tensorflow as tf\n",
    "\n",
    "def neural_net_image_input(image_shape):\n",
    "    \"\"\"\n",
    "    Return a Tensor for a batch of image input\n",
    "    : image_shape: Shape of the images\n",
    "    : return: Tensor for image input.\n",
    "    \"\"\"\n",
    "    return tf.placeholder(tf.float32, shape=(None, *image_shape), name='x')\n",
    "\n",
    "\n",
    "def neural_net_label_input(n_classes):\n",
    "    \"\"\"\n",
    "    Return a Tensor for a batch of label input\n",
    "    : n_classes: Number of classes\n",
    "    : return: Tensor for label input.\n",
    "    \"\"\"\n",
    "    return tf.placeholder(tf.float32, shape=(None, n_classes), name='y')\n",
    "\n",
    "\n",
    "def neural_net_keep_prob_input():\n",
    "    \"\"\"\n",
    "    Return a Tensor for keep probability\n",
    "    : return: Tensor for keep probability.\n",
    "    \"\"\"\n",
    "    return tf.placeholder(tf.float32, name='keep_prob')\n",
    "\n",
    "\n",
    "\"\"\"\n",
    "DON'T MODIFY ANYTHING IN THIS CELL THAT IS BELOW THIS LINE\n",
    "\"\"\"\n",
    "tf.reset_default_graph()\n",
    "tests.test_nn_image_inputs(neural_net_image_input)\n",
    "tests.test_nn_label_inputs(neural_net_label_input)\n",
    "tests.test_nn_keep_prob_inputs(neural_net_keep_prob_input)"
   ]
  },
  {
   "cell_type": "markdown",
   "metadata": {},
   "source": [
    "### Convolution and Max Pooling Layer\n",
    "Convolution layers have a lot of success with images. For this code cell, you should implement the function `conv2d_maxpool` to apply convolution then max pooling:\n",
    "* Create the weight and bias using `conv_ksize`, `conv_num_outputs` and the shape of `x_tensor`.\n",
    "* Apply a convolution to `x_tensor` using weight and `conv_strides`.\n",
    " * We recommend you use same padding, but you're welcome to use any padding.\n",
    "* Add bias\n",
    "* Add a nonlinear activation to the convolution.\n",
    "* Apply Max Pooling using `pool_ksize` and `pool_strides`.\n",
    " * We recommend you use same padding, but you're welcome to use any padding.\n",
    "\n",
    "**Note:** You **can't** use [TensorFlow Layers](https://www.tensorflow.org/api_docs/python/tf/layers) or [TensorFlow Layers (contrib)](https://www.tensorflow.org/api_guides/python/contrib.layers) for **this** layer, but you can still use TensorFlow's [Neural Network](https://www.tensorflow.org/api_docs/python/tf/nn) package. You may still use the shortcut option for all the **other** layers.\n",
    "\n",
    "** Hint: **\n",
    "\n",
    "When unpacking values as an argument in Python, look into the [unpacking](https://docs.python.org/3/tutorial/controlflow.html#unpacking-argument-lists) operator. "
   ]
  },
  {
   "cell_type": "code",
   "execution_count": 119,
   "metadata": {},
   "outputs": [
    {
     "name": "stdout",
     "output_type": "stream",
     "text": [
      "Tests Passed\n"
     ]
    }
   ],
   "source": [
    "def conv2d_maxpool(x_tensor, conv_num_outputs, conv_ksize, conv_strides, pool_ksize, pool_strides):\n",
    "    \"\"\"\n",
    "    Apply convolution then max pooling to x_tensor\n",
    "    :param x_tensor: TensorFlow Tensor\n",
    "    :param conv_num_outputs: Number of outputs for the convolutional layer\n",
    "    :param conv_ksize: kernal size 2-D Tuple for the convolutional layer\n",
    "    :param conv_strides: Stride 2-D Tuple for convolution\n",
    "    :param pool_ksize: kernal size 2-D Tuple for pool\n",
    "    :param pool_strides: Stride 2-D Tuple for pool\n",
    "    : return: A tensor that represents convolution and max pooling of x_tensor\n",
    "    \"\"\"\n",
    "    # TODO: Implement Function\n",
    "    # Get the input shape and image color channels\n",
    "    color_channels = x_tensor.get_shape().as_list()[-1]\n",
    "    # Compute the weight and bias\n",
    "    conv_kernel_shape = list(conv_ksize)\n",
    "    stddev = 2 / (conv_kernel_shape[0] * conv_kernel_shape[1] * color_channels)\n",
    "    weight = tf.Variable(tf.truncated_normal(list(conv_ksize) + list([color_channels, conv_num_outputs]), stddev=stddev))\n",
    "    bias = tf.Variable(tf.zeros(conv_num_outputs))\n",
    "    # Compute the conv2d strides\n",
    "    c_strides = list([1]) + list(conv_strides) + list([1])\n",
    "    # Add conv2d layer\n",
    "    conv_layer = tf.nn.conv2d(x_tensor, weight, strides=c_strides, padding=\"SAME\")\n",
    "    # Add bias layer\n",
    "    conv_layer = tf.nn.bias_add(conv_layer, bias)\n",
    "    # Apply activation\n",
    "    conv_layer = tf.nn.relu(conv_layer)\n",
    "    # Compute max_pooling kernel size and strides\n",
    "    pooling_ksize = [1, *pool_ksize, 1]\n",
    "    pooling_strides = [1, *pool_strides, 1]\n",
    "    conv_layer = tf.nn.max_pool(conv_layer, ksize=pooling_ksize, strides=pooling_strides, padding='SAME')\n",
    "    return conv_layer\n",
    "\n",
    "\n",
    "\"\"\"\n",
    "DON'T MODIFY ANYTHING IN THIS CELL THAT IS BELOW THIS LINE\n",
    "\"\"\"\n",
    "tests.test_con_pool(conv2d_maxpool)"
   ]
  },
  {
   "cell_type": "markdown",
   "metadata": {},
   "source": [
    "### Flatten Layer\n",
    "Implement the `flatten` function to change the dimension of `x_tensor` from a 4-D tensor to a 2-D tensor.  The output should be the shape (*Batch Size*, *Flattened Image Size*). Shortcut option: you can use classes from the [TensorFlow Layers](https://www.tensorflow.org/api_docs/python/tf/layers) or [TensorFlow Layers (contrib)](https://www.tensorflow.org/api_guides/python/contrib.layers) packages for this layer. For more of a challenge, only use other TensorFlow packages."
   ]
  },
  {
   "cell_type": "code",
   "execution_count": 90,
   "metadata": {},
   "outputs": [
    {
     "name": "stdout",
     "output_type": "stream",
     "text": [
      "Tests Passed\n"
     ]
    }
   ],
   "source": [
    "def flatten(x_tensor):\n",
    "    \"\"\"\n",
    "    Flatten x_tensor to (Batch Size, Flattened Image Size)\n",
    "    : x_tensor: A tensor of size (Batch Size, ...), where ... are the image dimensions.\n",
    "    : return: A tensor of size (Batch Size, Flattened Image Size).\n",
    "    \"\"\"\n",
    "    # Get the shape of the input tensor\n",
    "    input_shape = x_tensor.get_shape().as_list()\n",
    "    # Compute 1-D image total size\n",
    "    img_size = input_shape[1] * input_shape[2] * input_shape[3]\n",
    "    # Note tf.reshape reshapes a real tensor, not a placeholder\n",
    "    reshaped_tensor = tf.reshape(x_tensor, [-1, img_size])\n",
    "    return reshaped_tensor\n",
    "\n",
    "\n",
    "\"\"\"\n",
    "DON'T MODIFY ANYTHING IN THIS CELL THAT IS BELOW THIS LINE\n",
    "\"\"\"\n",
    "tests.test_flatten(flatten)"
   ]
  },
  {
   "cell_type": "markdown",
   "metadata": {},
   "source": [
    "### Fully-Connected Layer\n",
    "Implement the `fully_conn` function to apply a fully connected layer to `x_tensor` with the shape (*Batch Size*, *num_outputs*). Shortcut option: you can use classes from the [TensorFlow Layers](https://www.tensorflow.org/api_docs/python/tf/layers) or [TensorFlow Layers (contrib)](https://www.tensorflow.org/api_guides/python/contrib.layers) packages for this layer. For more of a challenge, only use other TensorFlow packages."
   ]
  },
  {
   "cell_type": "code",
   "execution_count": 99,
   "metadata": {},
   "outputs": [
    {
     "name": "stdout",
     "output_type": "stream",
     "text": [
      "Tests Passed\n"
     ]
    }
   ],
   "source": [
    "def fully_conn(x_tensor, num_outputs):\n",
    "    \"\"\"\n",
    "    Apply a fully connected layer to x_tensor using weight and bias\n",
    "    : x_tensor: A 2-D tensor where the first dimension is batch size.\n",
    "    : num_outputs: The number of output that the new tensor should be.\n",
    "    : return: A 2-D tensor where the second dimension is num_outputs.\n",
    "    \"\"\"\n",
    "    # Get the input size\n",
    "    input_size = x_tensor.get_shape().as_list()\n",
    "    # Create weight matrix (features by layer_outputs ) and bias vector\n",
    "    weight = tf.Variable(tf.truncated_normal((input_size[1], num_outputs), stddev=0.1))\n",
    "    bias = tf.Variable(tf.zeros(num_outputs))\n",
    "    # Construct the new placeholder for output tensor\n",
    "    fully_connected_layer = tf.add(tf.matmul(x_tensor, weight), bias)\n",
    "    # Apply activation\n",
    "    fully_connected_layer = tf.nn.relu(fully_connected_layer)\n",
    "    return fully_connected_layer\n",
    "\n",
    "\n",
    "\"\"\"\n",
    "DON'T MODIFY ANYTHING IN THIS CELL THAT IS BELOW THIS LINE\n",
    "\"\"\"\n",
    "tests.test_fully_conn(fully_conn)"
   ]
  },
  {
   "cell_type": "markdown",
   "metadata": {},
   "source": [
    "### Output Layer\n",
    "Implement the `output` function to apply a fully connected layer to `x_tensor` with the shape (*Batch Size*, *num_outputs*). Shortcut option: you can use classes from the [TensorFlow Layers](https://www.tensorflow.org/api_docs/python/tf/layers) or [TensorFlow Layers (contrib)](https://www.tensorflow.org/api_guides/python/contrib.layers) packages for this layer. For more of a challenge, only use other TensorFlow packages.\n",
    "\n",
    "**Note:** Activation, softmax, or cross entropy should **not** be applied to this."
   ]
  },
  {
   "cell_type": "code",
   "execution_count": 100,
   "metadata": {},
   "outputs": [
    {
     "name": "stdout",
     "output_type": "stream",
     "text": [
      "Tests Passed\n"
     ]
    }
   ],
   "source": [
    "def output(x_tensor, num_outputs):\n",
    "    \"\"\"\n",
    "    Apply a output layer to x_tensor using weight and bias\n",
    "    : x_tensor: A 2-D tensor where the first dimension is batch size.\n",
    "    : num_outputs: The number of output that the new tensor should be.\n",
    "    : return: A 2-D tensor where the second dimension is num_outputs.\n",
    "    \"\"\"\n",
    "    # Get input shape\n",
    "    input_shape = x_tensor.get_shape().as_list()\n",
    "    # Create weight maxtrix and bias vector\n",
    "    weight = tf.Variable(tf.truncated_normal((input_shape[1], num_outputs), stddev=0.1))\n",
    "    bias = tf.Variable(tf.zeros(num_outputs))\n",
    "    # Output layer outputs logits\n",
    "    output_layer = tf.add(tf.matmul(x_tensor, weight), bias)\n",
    "    return output_layer\n",
    "\n",
    "\n",
    "\"\"\"\n",
    "DON'T MODIFY ANYTHING IN THIS CELL THAT IS BELOW THIS LINE\n",
    "\"\"\"\n",
    "tests.test_output(output)"
   ]
  },
  {
   "cell_type": "markdown",
   "metadata": {},
   "source": [
    "### Create Convolutional Model\n",
    "Implement the function `conv_net` to create a convolutional neural network model. The function takes in a batch of images, `x`, and outputs logits.  Use the layers you created above to create this model:\n",
    "\n",
    "* Apply 1, 2, or 3 Convolution and Max Pool layers\n",
    "* Apply a Flatten Layer\n",
    "* Apply 1, 2, or 3 Fully Connected Layers\n",
    "* Apply an Output Layer\n",
    "* Return the output\n",
    "* Apply [TensorFlow's Dropout](https://www.tensorflow.org/api_docs/python/tf/nn/dropout) to one or more layers in the model using `keep_prob`. "
   ]
  },
  {
   "cell_type": "code",
   "execution_count": 107,
   "metadata": {},
   "outputs": [
    {
     "name": "stdout",
     "output_type": "stream",
     "text": [
      "Neural Network Built!\n"
     ]
    }
   ],
   "source": [
    "def conv_net(x, keep_prob):\n",
    "    \"\"\"\n",
    "    Create a convolutional neural network model\n",
    "    : x: Placeholder tensor that holds image data.\n",
    "    : keep_prob: Placeholder tensor that hold dropout keep probability.\n",
    "    : return: Tensor that represents logits\n",
    "    \"\"\"\n",
    "    # TODO: Apply 1, 2, or 3 Convolution and Max Pool layers\n",
    "    #    Play around with different number of outputs, kernel size and stride\n",
    "    # Function Definition from Above:\n",
    "    #    conv2d_maxpool(x_tensor, conv_num_outputs, conv_ksize, conv_strides, pool_ksize, pool_strides)\n",
    "    conv_num_outputs = 32\n",
    "    conv_ksize = (3, 3)\n",
    "    conv_strides = (1, 1)\n",
    "    pool_ksize = (2, 2)\n",
    "    pool_strides = (2, 2)\n",
    "    conv_output = conv2d_maxpool(x, conv_num_outputs, conv_ksize, conv_strides, pool_ksize, pool_strides)\n",
    "    \n",
    "    conv_num_outputs = 64\n",
    "    conv_output = conv2d_maxpool(conv_output, conv_num_outputs, conv_ksize, conv_strides, pool_ksize, pool_strides)\n",
    "    conv_output = tf.nn.dropout(conv_output, keep_prob)\n",
    "    \n",
    "    conv_num_outputs = 128\n",
    "    conv_output = conv2d_maxpool(conv_output, conv_num_outputs, conv_ksize, conv_strides, pool_ksize, pool_strides)\n",
    "    conv_output = tf.nn.dropout(conv_output, keep_prob)\n",
    "\n",
    "    # TODO: Apply a Flatten Layer\n",
    "    # Function Definition from Above:\n",
    "    #   flatten(x_tensor)\n",
    "    flatten_output = flatten(conv_output)\n",
    "    \n",
    "\n",
    "    # TODO: Apply 1, 2, or 3 Fully Connected Layers\n",
    "    #    Play around with different number of outputs\n",
    "    # Function Definition from Above:\n",
    "    #   fully_conn(x_tensor, num_outputs)\n",
    "    fully_conn_num_outputs = 512\n",
    "    fully_output = fully_conn(flatten_output, fully_conn_num_outputs)\n",
    "    fully_output = tf.nn.dropout(fully_output, keep_prob)\n",
    "    \n",
    "    fully_conn_num_outputs = 256\n",
    "    fully_output = fully_conn(fully_output, fully_conn_num_outputs)\n",
    "    fully_output = tf.nn.dropout(fully_output, keep_prob)\n",
    "    \n",
    "    fully_conn_num_outputs = 128\n",
    "    fully_output = fully_conn(fully_output, fully_conn_num_outputs)\n",
    "    fully_output = tf.nn.dropout(fully_output, keep_prob)\n",
    "    \n",
    "    \n",
    "    # TODO: Apply an Output Layer\n",
    "    #    Set this to the number of classes\n",
    "    # Function Definition from Above:\n",
    "    #   output(x_tensor, num_outputs)\n",
    "    class_num = 10\n",
    "    logits = output(fully_output, class_num)\n",
    "    \n",
    "    \n",
    "    # TODO: return output\n",
    "    return logits\n",
    "\n",
    "\n",
    "\"\"\"\n",
    "DON'T MODIFY ANYTHING IN THIS CELL THAT IS BELOW THIS LINE\n",
    "\"\"\"\n",
    "\n",
    "##############################\n",
    "## Build the Neural Network ##\n",
    "##############################\n",
    "\n",
    "# Remove previous weights, bias, inputs, etc..\n",
    "tf.reset_default_graph()\n",
    "\n",
    "# Inputs\n",
    "x = neural_net_image_input((32, 32, 3))\n",
    "y = neural_net_label_input(10)\n",
    "keep_prob = neural_net_keep_prob_input()\n",
    "\n",
    "# Model\n",
    "logits = conv_net(x, keep_prob)\n",
    "\n",
    "# Name logits Tensor, so that is can be loaded from disk after training\n",
    "logits = tf.identity(logits, name='logits')\n",
    "\n",
    "# Loss and Optimizer\n",
    "cost = tf.reduce_mean(tf.nn.softmax_cross_entropy_with_logits(logits=logits, labels=y))\n",
    "optimizer = tf.train.AdamOptimizer().minimize(cost)\n",
    "\n",
    "# Accuracy\n",
    "correct_pred = tf.equal(tf.argmax(logits, 1), tf.argmax(y, 1))\n",
    "accuracy = tf.reduce_mean(tf.cast(correct_pred, tf.float32), name='accuracy')\n",
    "\n",
    "tests.test_conv_net(conv_net)"
   ]
  },
  {
   "cell_type": "markdown",
   "metadata": {},
   "source": [
    "## Train the Neural Network\n",
    "### Single Optimization\n",
    "Implement the function `train_neural_network` to do a single optimization.  The optimization should use `optimizer` to optimize in `session` with a `feed_dict` of the following:\n",
    "* `x` for image input\n",
    "* `y` for labels\n",
    "* `keep_prob` for keep probability for dropout\n",
    "\n",
    "This function will be called for each batch, so `tf.global_variables_initializer()` has already been called.\n",
    "\n",
    "Note: Nothing needs to be returned. This function is only optimizing the neural network."
   ]
  },
  {
   "cell_type": "code",
   "execution_count": 94,
   "metadata": {},
   "outputs": [
    {
     "name": "stdout",
     "output_type": "stream",
     "text": [
      "Tests Passed\n"
     ]
    }
   ],
   "source": [
    "def train_neural_network(session, optimizer, keep_probability, feature_batch, label_batch):\n",
    "    \"\"\"\n",
    "    Optimize the session on a batch of images and labels\n",
    "    : session: Current TensorFlow session\n",
    "    : optimizer: TensorFlow optimizer function\n",
    "    : keep_probability: keep probability\n",
    "    : feature_batch: Batch of Numpy image data\n",
    "    : label_batch: Batch of Numpy label data\n",
    "    \"\"\"\n",
    "    session.run(optimizer, feed_dict={x: feature_batch, y: label_batch, keep_prob: keep_probability})\n",
    "    pass\n",
    "\n",
    "\n",
    "\"\"\"\n",
    "DON'T MODIFY ANYTHING IN THIS CELL THAT IS BELOW THIS LINE\n",
    "\"\"\"\n",
    "tests.test_train_nn(train_neural_network)"
   ]
  },
  {
   "cell_type": "markdown",
   "metadata": {},
   "source": [
    "### Show Stats\n",
    "Implement the function `print_stats` to print loss and validation accuracy.  Use the global variables `valid_features` and `valid_labels` to calculate validation accuracy.  Use a keep probability of `1.0` to calculate the loss and validation accuracy."
   ]
  },
  {
   "cell_type": "code",
   "execution_count": 95,
   "metadata": {
    "collapsed": true
   },
   "outputs": [],
   "source": [
    "def print_stats(session, feature_batch, label_batch, cost, accuracy):\n",
    "    \"\"\"\n",
    "    Print information about loss and validation accuracy\n",
    "    : session: Current TensorFlow session\n",
    "    : feature_batch: Batch of Numpy image data\n",
    "    : label_batch: Batch of Numpy label data\n",
    "    : cost: TensorFlow cost function\n",
    "    : accuracy: TensorFlow accuracy function\n",
    "    \"\"\"\n",
    "    loss = session.run(cost, feed_dict={x: feature_batch, y: label_batch, keep_prob: 1.0})\n",
    "    val_acc = session.run(accuracy, feed_dict={x: valid_features, y: valid_labels, keep_prob: 1.0})\n",
    "    print(\"loss: {},  val accuracy: {}%\".format(loss, val_acc*100))\n",
    "    pass"
   ]
  },
  {
   "cell_type": "markdown",
   "metadata": {},
   "source": [
    "### Hyperparameters\n",
    "Tune the following parameters:\n",
    "* Set `epochs` to the number of iterations until the network stops learning or start overfitting\n",
    "* Set `batch_size` to the highest number that your machine has memory for.  Most people set them to common sizes of memory:\n",
    " * 64\n",
    " * 128\n",
    " * 256\n",
    " * ...\n",
    "* Set `keep_probability` to the probability of keeping a node using dropout"
   ]
  },
  {
   "cell_type": "code",
   "execution_count": 114,
   "metadata": {
    "collapsed": true
   },
   "outputs": [],
   "source": [
    "# TODO: Tune Parameters\n",
    "epochs = 30\n",
    "batch_size = 256\n",
    "keep_probability = 0.75"
   ]
  },
  {
   "cell_type": "markdown",
   "metadata": {},
   "source": [
    "### Train on a Single CIFAR-10 Batch\n",
    "Instead of training the neural network on all the CIFAR-10 batches of data, let's use a single batch. This should save time while you iterate on the model to get a better accuracy.  Once the final validation accuracy is 50% or greater, run the model on all the data in the next section."
   ]
  },
  {
   "cell_type": "code",
   "execution_count": 117,
   "metadata": {},
   "outputs": [
    {
     "name": "stdout",
     "output_type": "stream",
     "text": [
      "Checking the Training on a Single Batch...\n",
      "Epoch  1, CIFAR-10 Batch 1:  loss: 2.21541166305542,  val accuracy: 22.679999470710754%\n",
      "Epoch  2, CIFAR-10 Batch 1:  loss: 2.122300148010254,  val accuracy: 30.480000376701355%\n",
      "Epoch  3, CIFAR-10 Batch 1:  loss: 1.9190714359283447,  val accuracy: 34.59999859333038%\n",
      "Epoch  4, CIFAR-10 Batch 1:  loss: 1.795127511024475,  val accuracy: 39.68000113964081%\n",
      "Epoch  5, CIFAR-10 Batch 1:  loss: 1.6026198863983154,  val accuracy: 42.96000003814697%\n",
      "Epoch  6, CIFAR-10 Batch 1:  loss: 1.5026830434799194,  val accuracy: 43.92000138759613%\n",
      "Epoch  7, CIFAR-10 Batch 1:  loss: 1.3523064851760864,  val accuracy: 45.46000063419342%\n",
      "Epoch  8, CIFAR-10 Batch 1:  loss: 1.2455658912658691,  val accuracy: 48.3599990606308%\n",
      "Epoch  9, CIFAR-10 Batch 1:  loss: 1.153253197669983,  val accuracy: 51.53999924659729%\n",
      "Epoch 10, CIFAR-10 Batch 1:  loss: 1.0845413208007812,  val accuracy: 51.74000263214111%\n",
      "Epoch 11, CIFAR-10 Batch 1:  loss: 0.9841264486312866,  val accuracy: 52.49999761581421%\n",
      "Epoch 12, CIFAR-10 Batch 1:  loss: 0.8923500180244446,  val accuracy: 54.75999712944031%\n",
      "Epoch 13, CIFAR-10 Batch 1:  loss: 0.8030020594596863,  val accuracy: 55.11999726295471%\n",
      "Epoch 14, CIFAR-10 Batch 1:  loss: 0.7237142324447632,  val accuracy: 54.919999837875366%\n",
      "Epoch 15, CIFAR-10 Batch 1:  loss: 0.7323993444442749,  val accuracy: 57.38000273704529%\n",
      "Epoch 16, CIFAR-10 Batch 1:  loss: 0.6734115481376648,  val accuracy: 58.02000164985657%\n",
      "Epoch 17, CIFAR-10 Batch 1:  loss: 0.5868445634841919,  val accuracy: 59.359997510910034%\n",
      "Epoch 18, CIFAR-10 Batch 1:  loss: 0.5447644591331482,  val accuracy: 59.60000157356262%\n",
      "Epoch 19, CIFAR-10 Batch 1:  loss: 0.5214646458625793,  val accuracy: 59.83999967575073%\n",
      "Epoch 20, CIFAR-10 Batch 1:  loss: 0.411444753408432,  val accuracy: 61.04000210762024%\n",
      "Epoch 21, CIFAR-10 Batch 1:  loss: 0.42865315079689026,  val accuracy: 61.44000291824341%\n",
      "Epoch 22, CIFAR-10 Batch 1:  loss: 0.34113627672195435,  val accuracy: 62.199997901916504%\n",
      "Epoch 23, CIFAR-10 Batch 1:  loss: 0.2998899519443512,  val accuracy: 61.559998989105225%\n",
      "Epoch 24, CIFAR-10 Batch 1:  loss: 0.26225218176841736,  val accuracy: 61.72000169754028%\n",
      "Epoch 25, CIFAR-10 Batch 1:  loss: 0.22877831757068634,  val accuracy: 63.099998235702515%\n",
      "Epoch 26, CIFAR-10 Batch 1:  loss: 0.2337314635515213,  val accuracy: 58.84000062942505%\n",
      "Epoch 27, CIFAR-10 Batch 1:  loss: 0.18184369802474976,  val accuracy: 62.9800021648407%\n",
      "Epoch 28, CIFAR-10 Batch 1:  loss: 0.15353432297706604,  val accuracy: 62.540000677108765%\n",
      "Epoch 29, CIFAR-10 Batch 1:  loss: 0.15716077387332916,  val accuracy: 61.500000953674316%\n",
      "Epoch 30, CIFAR-10 Batch 1:  loss: 0.11049511283636093,  val accuracy: 61.68000102043152%\n"
     ]
    }
   ],
   "source": [
    "\"\"\"\n",
    "DON'T MODIFY ANYTHING IN THIS CELL\n",
    "\"\"\"\n",
    "print('Checking the Training on a Single Batch...')\n",
    "with tf.Session() as sess:\n",
    "    # Initializing the variables\n",
    "    sess.run(tf.global_variables_initializer())\n",
    "    \n",
    "    # Training cycle\n",
    "    for epoch in range(epochs):\n",
    "        batch_i = 1\n",
    "        for batch_features, batch_labels in helper.load_preprocess_training_batch(batch_i, batch_size):\n",
    "            train_neural_network(sess, optimizer, keep_probability, batch_features, batch_labels)\n",
    "        print('Epoch {:>2}, CIFAR-10 Batch {}:  '.format(epoch + 1, batch_i), end='')\n",
    "        print_stats(sess, batch_features, batch_labels, cost, accuracy)"
   ]
  },
  {
   "cell_type": "markdown",
   "metadata": {},
   "source": [
    "### Fully Train the Model\n",
    "Now that you got a good accuracy with a single CIFAR-10 batch, try it with all five batches."
   ]
  },
  {
   "cell_type": "code",
   "execution_count": 115,
   "metadata": {},
   "outputs": [
    {
     "name": "stdout",
     "output_type": "stream",
     "text": [
      "Training...\n",
      "Epoch  1, CIFAR-10 Batch 1:  loss: 2.2233495712280273,  val accuracy: 21.84000015258789%\n",
      "Epoch  1, CIFAR-10 Batch 2:  loss: 2.070775270462036,  val accuracy: 28.760001063346863%\n",
      "Epoch  1, CIFAR-10 Batch 3:  loss: 1.784070611000061,  val accuracy: 30.640000104904175%\n",
      "Epoch  1, CIFAR-10 Batch 4:  loss: 1.6515967845916748,  val accuracy: 33.46000015735626%\n",
      "Epoch  1, CIFAR-10 Batch 5:  loss: 1.7202045917510986,  val accuracy: 37.6800000667572%\n",
      "Epoch  2, CIFAR-10 Batch 1:  loss: 1.7431762218475342,  val accuracy: 42.91999936103821%\n",
      "Epoch  2, CIFAR-10 Batch 2:  loss: 1.4911943674087524,  val accuracy: 45.33999860286713%\n",
      "Epoch  2, CIFAR-10 Batch 3:  loss: 1.2426824569702148,  val accuracy: 47.31999933719635%\n",
      "Epoch  2, CIFAR-10 Batch 4:  loss: 1.3646166324615479,  val accuracy: 49.480000138282776%\n",
      "Epoch  2, CIFAR-10 Batch 5:  loss: 1.357250452041626,  val accuracy: 51.63999795913696%\n",
      "Epoch  3, CIFAR-10 Batch 1:  loss: 1.388970136642456,  val accuracy: 53.2800018787384%\n",
      "Epoch  3, CIFAR-10 Batch 2:  loss: 1.2400617599487305,  val accuracy: 53.32000255584717%\n",
      "Epoch  3, CIFAR-10 Batch 3:  loss: 0.9863511919975281,  val accuracy: 54.46000099182129%\n",
      "Epoch  3, CIFAR-10 Batch 4:  loss: 1.1166728734970093,  val accuracy: 57.71999955177307%\n",
      "Epoch  3, CIFAR-10 Batch 5:  loss: 1.267785668373108,  val accuracy: 56.98000192642212%\n",
      "Epoch  4, CIFAR-10 Batch 1:  loss: 1.0840054750442505,  val accuracy: 58.719998598098755%\n",
      "Epoch  4, CIFAR-10 Batch 2:  loss: 1.0553594827651978,  val accuracy: 58.06000232696533%\n",
      "Epoch  4, CIFAR-10 Batch 3:  loss: 0.8675241470336914,  val accuracy: 59.32000279426575%\n",
      "Epoch  4, CIFAR-10 Batch 4:  loss: 0.9019886255264282,  val accuracy: 61.820000410079956%\n",
      "Epoch  4, CIFAR-10 Batch 5:  loss: 1.0409382581710815,  val accuracy: 61.080002784729004%\n",
      "Epoch  5, CIFAR-10 Batch 1:  loss: 0.9663065671920776,  val accuracy: 62.09999918937683%\n",
      "Epoch  5, CIFAR-10 Batch 2:  loss: 0.8143919706344604,  val accuracy: 62.73999810218811%\n",
      "Epoch  5, CIFAR-10 Batch 3:  loss: 0.66005939245224,  val accuracy: 63.08000087738037%\n",
      "Epoch  5, CIFAR-10 Batch 4:  loss: 0.747937023639679,  val accuracy: 62.76000142097473%\n",
      "Epoch  5, CIFAR-10 Batch 5:  loss: 0.8135088682174683,  val accuracy: 64.31999802589417%\n",
      "Epoch  6, CIFAR-10 Batch 1:  loss: 0.827792763710022,  val accuracy: 65.6000018119812%\n",
      "Epoch  6, CIFAR-10 Batch 2:  loss: 0.6932676434516907,  val accuracy: 62.860000133514404%\n",
      "Epoch  6, CIFAR-10 Batch 3:  loss: 0.4897579550743103,  val accuracy: 65.71999788284302%\n",
      "Epoch  6, CIFAR-10 Batch 4:  loss: 0.6359793543815613,  val accuracy: 67.14000105857849%\n",
      "Epoch  6, CIFAR-10 Batch 5:  loss: 0.717369794845581,  val accuracy: 65.92000126838684%\n",
      "Epoch  7, CIFAR-10 Batch 1:  loss: 0.6544783115386963,  val accuracy: 67.18000173568726%\n",
      "Epoch  7, CIFAR-10 Batch 2:  loss: 0.6005041599273682,  val accuracy: 66.97999835014343%\n",
      "Epoch  7, CIFAR-10 Batch 3:  loss: 0.4171603322029114,  val accuracy: 68.50000023841858%\n",
      "Epoch  7, CIFAR-10 Batch 4:  loss: 0.5634818077087402,  val accuracy: 68.95999908447266%\n",
      "Epoch  7, CIFAR-10 Batch 5:  loss: 0.6148278117179871,  val accuracy: 67.29999780654907%\n",
      "Epoch  8, CIFAR-10 Batch 1:  loss: 0.5646111369132996,  val accuracy: 69.23999786376953%\n",
      "Epoch  8, CIFAR-10 Batch 2:  loss: 0.5058315992355347,  val accuracy: 70.16000151634216%\n",
      "Epoch  8, CIFAR-10 Batch 3:  loss: 0.32332539558410645,  val accuracy: 69.70000267028809%\n",
      "Epoch  8, CIFAR-10 Batch 4:  loss: 0.5200257301330566,  val accuracy: 69.35999989509583%\n",
      "Epoch  8, CIFAR-10 Batch 5:  loss: 0.5212147831916809,  val accuracy: 70.35999894142151%\n",
      "Epoch  9, CIFAR-10 Batch 1:  loss: 0.5124866962432861,  val accuracy: 68.62000226974487%\n",
      "Epoch  9, CIFAR-10 Batch 2:  loss: 0.3989098072052002,  val accuracy: 70.71999907493591%\n",
      "Epoch  9, CIFAR-10 Batch 3:  loss: 0.32253414392471313,  val accuracy: 69.70000267028809%\n",
      "Epoch  9, CIFAR-10 Batch 4:  loss: 0.39841189980506897,  val accuracy: 70.93999981880188%\n",
      "Epoch  9, CIFAR-10 Batch 5:  loss: 0.4306914210319519,  val accuracy: 71.78000211715698%\n",
      "Epoch 10, CIFAR-10 Batch 1:  loss: 0.49773740768432617,  val accuracy: 68.19999814033508%\n",
      "Epoch 10, CIFAR-10 Batch 2:  loss: 0.3364635109901428,  val accuracy: 72.35999703407288%\n",
      "Epoch 10, CIFAR-10 Batch 3:  loss: 0.2556037902832031,  val accuracy: 70.80000042915344%\n",
      "Epoch 10, CIFAR-10 Batch 4:  loss: 0.30906781554222107,  val accuracy: 73.00000190734863%\n",
      "Epoch 10, CIFAR-10 Batch 5:  loss: 0.3489872217178345,  val accuracy: 72.97999858856201%\n",
      "Epoch 11, CIFAR-10 Batch 1:  loss: 0.3654700219631195,  val accuracy: 70.63999772071838%\n",
      "Epoch 11, CIFAR-10 Batch 2:  loss: 0.3559897840023041,  val accuracy: 73.1000006198883%\n",
      "Epoch 11, CIFAR-10 Batch 3:  loss: 0.22663307189941406,  val accuracy: 71.42000198364258%\n",
      "Epoch 11, CIFAR-10 Batch 4:  loss: 0.3050273060798645,  val accuracy: 73.18000197410583%\n",
      "Epoch 11, CIFAR-10 Batch 5:  loss: 0.30818748474121094,  val accuracy: 72.64000177383423%\n",
      "Epoch 12, CIFAR-10 Batch 1:  loss: 0.3199964761734009,  val accuracy: 71.56000137329102%\n",
      "Epoch 12, CIFAR-10 Batch 2:  loss: 0.2594415545463562,  val accuracy: 74.41999912261963%\n",
      "Epoch 12, CIFAR-10 Batch 3:  loss: 0.19269919395446777,  val accuracy: 72.78000116348267%\n",
      "Epoch 12, CIFAR-10 Batch 4:  loss: 0.24283909797668457,  val accuracy: 74.3399977684021%\n",
      "Epoch 12, CIFAR-10 Batch 5:  loss: 0.22617805004119873,  val accuracy: 73.7600028514862%\n",
      "Epoch 13, CIFAR-10 Batch 1:  loss: 0.26170843839645386,  val accuracy: 72.2599983215332%\n",
      "Epoch 13, CIFAR-10 Batch 2:  loss: 0.2314928025007248,  val accuracy: 74.04000163078308%\n",
      "Epoch 13, CIFAR-10 Batch 3:  loss: 0.20159325003623962,  val accuracy: 72.9200005531311%\n",
      "Epoch 13, CIFAR-10 Batch 4:  loss: 0.19260749220848083,  val accuracy: 74.86000061035156%\n",
      "Epoch 13, CIFAR-10 Batch 5:  loss: 0.22319082915782928,  val accuracy: 74.76000189781189%\n",
      "Epoch 14, CIFAR-10 Batch 1:  loss: 0.26970139145851135,  val accuracy: 72.33999967575073%\n",
      "Epoch 14, CIFAR-10 Batch 2:  loss: 0.19358085095882416,  val accuracy: 74.95999932289124%\n",
      "Epoch 14, CIFAR-10 Batch 3:  loss: 0.16728386282920837,  val accuracy: 74.77999925613403%\n",
      "Epoch 14, CIFAR-10 Batch 4:  loss: 0.16726088523864746,  val accuracy: 75.73999762535095%\n",
      "Epoch 14, CIFAR-10 Batch 5:  loss: 0.18081805109977722,  val accuracy: 74.76000189781189%\n",
      "Epoch 15, CIFAR-10 Batch 1:  loss: 0.1794322282075882,  val accuracy: 75.16000270843506%\n",
      "Epoch 15, CIFAR-10 Batch 2:  loss: 0.16828246414661407,  val accuracy: 76.08000040054321%\n",
      "Epoch 15, CIFAR-10 Batch 3:  loss: 0.1528702974319458,  val accuracy: 74.76000189781189%\n",
      "Epoch 15, CIFAR-10 Batch 4:  loss: 0.152978777885437,  val accuracy: 75.19999742507935%\n",
      "Epoch 15, CIFAR-10 Batch 5:  loss: 0.14754155278205872,  val accuracy: 75.62000155448914%\n",
      "Epoch 16, CIFAR-10 Batch 1:  loss: 0.17594026029109955,  val accuracy: 74.58000183105469%\n",
      "Epoch 16, CIFAR-10 Batch 2:  loss: 0.17460937798023224,  val accuracy: 75.95999836921692%\n",
      "Epoch 16, CIFAR-10 Batch 3:  loss: 0.14588594436645508,  val accuracy: 75.26000142097473%\n",
      "Epoch 16, CIFAR-10 Batch 4:  loss: 0.14491650462150574,  val accuracy: 75.3600001335144%\n",
      "Epoch 16, CIFAR-10 Batch 5:  loss: 0.12724991142749786,  val accuracy: 76.30000114440918%\n",
      "Epoch 17, CIFAR-10 Batch 1:  loss: 0.19084899127483368,  val accuracy: 75.08000135421753%\n",
      "Epoch 17, CIFAR-10 Batch 2:  loss: 0.13025575876235962,  val accuracy: 76.5999972820282%\n",
      "Epoch 17, CIFAR-10 Batch 3:  loss: 0.12803597748279572,  val accuracy: 74.77999925613403%\n",
      "Epoch 17, CIFAR-10 Batch 4:  loss: 0.13947263360023499,  val accuracy: 76.52000188827515%\n",
      "Epoch 17, CIFAR-10 Batch 5:  loss: 0.10569741576910019,  val accuracy: 75.98000168800354%\n",
      "Epoch 18, CIFAR-10 Batch 1:  loss: 0.1334857940673828,  val accuracy: 74.83999729156494%\n",
      "Epoch 18, CIFAR-10 Batch 2:  loss: 0.12882602214813232,  val accuracy: 76.39999985694885%\n",
      "Epoch 18, CIFAR-10 Batch 3:  loss: 0.13210387527942657,  val accuracy: 76.16000175476074%\n",
      "Epoch 18, CIFAR-10 Batch 4:  loss: 0.12033798545598984,  val accuracy: 76.27999782562256%\n",
      "Epoch 18, CIFAR-10 Batch 5:  loss: 0.10076527297496796,  val accuracy: 76.57999992370605%\n",
      "Epoch 19, CIFAR-10 Batch 1:  loss: 0.10960600525140762,  val accuracy: 76.13999843597412%\n",
      "Epoch 19, CIFAR-10 Batch 2:  loss: 0.14056862890720367,  val accuracy: 75.44000148773193%\n"
     ]
    },
    {
     "name": "stdout",
     "output_type": "stream",
     "text": [
      "Epoch 19, CIFAR-10 Batch 3:  loss: 0.1022854894399643,  val accuracy: 76.38000249862671%\n",
      "Epoch 19, CIFAR-10 Batch 4:  loss: 0.09783319383859634,  val accuracy: 76.48000121116638%\n",
      "Epoch 19, CIFAR-10 Batch 5:  loss: 0.09123409539461136,  val accuracy: 76.99999809265137%\n",
      "Epoch 20, CIFAR-10 Batch 1:  loss: 0.0976768359541893,  val accuracy: 75.70000290870667%\n",
      "Epoch 20, CIFAR-10 Batch 2:  loss: 0.11076761782169342,  val accuracy: 76.92000269889832%\n",
      "Epoch 20, CIFAR-10 Batch 3:  loss: 0.09347082674503326,  val accuracy: 75.41999816894531%\n",
      "Epoch 20, CIFAR-10 Batch 4:  loss: 0.09881572425365448,  val accuracy: 76.88000202178955%\n",
      "Epoch 20, CIFAR-10 Batch 5:  loss: 0.0832093209028244,  val accuracy: 76.85999870300293%\n",
      "Epoch 21, CIFAR-10 Batch 1:  loss: 0.09933940321207047,  val accuracy: 76.5999972820282%\n",
      "Epoch 21, CIFAR-10 Batch 2:  loss: 0.11357035487890244,  val accuracy: 76.12000107765198%\n",
      "Epoch 21, CIFAR-10 Batch 3:  loss: 0.084254689514637,  val accuracy: 76.52000188827515%\n",
      "Epoch 21, CIFAR-10 Batch 4:  loss: 0.09276734292507172,  val accuracy: 75.95999836921692%\n",
      "Epoch 21, CIFAR-10 Batch 5:  loss: 0.06265439093112946,  val accuracy: 77.42000222206116%\n",
      "Epoch 22, CIFAR-10 Batch 1:  loss: 0.09590037167072296,  val accuracy: 77.53999829292297%\n",
      "Epoch 22, CIFAR-10 Batch 2:  loss: 0.12616901099681854,  val accuracy: 76.85999870300293%\n",
      "Epoch 22, CIFAR-10 Batch 3:  loss: 0.07026596367359161,  val accuracy: 77.6199996471405%\n",
      "Epoch 22, CIFAR-10 Batch 4:  loss: 0.06724313646554947,  val accuracy: 77.89999842643738%\n",
      "Epoch 22, CIFAR-10 Batch 5:  loss: 0.056866131722927094,  val accuracy: 77.28000283241272%\n",
      "Epoch 23, CIFAR-10 Batch 1:  loss: 0.10147049278020859,  val accuracy: 77.97999978065491%\n",
      "Epoch 23, CIFAR-10 Batch 2:  loss: 0.07654168456792831,  val accuracy: 77.81999707221985%\n",
      "Epoch 23, CIFAR-10 Batch 3:  loss: 0.0745101273059845,  val accuracy: 77.67999768257141%\n",
      "Epoch 23, CIFAR-10 Batch 4:  loss: 0.05923217535018921,  val accuracy: 77.48000025749207%\n",
      "Epoch 23, CIFAR-10 Batch 5:  loss: 0.05948472023010254,  val accuracy: 76.62000060081482%\n",
      "Epoch 24, CIFAR-10 Batch 1:  loss: 0.09488673508167267,  val accuracy: 77.10000276565552%\n",
      "Epoch 24, CIFAR-10 Batch 2:  loss: 0.07759658247232437,  val accuracy: 76.63999795913696%\n",
      "Epoch 24, CIFAR-10 Batch 3:  loss: 0.06606755405664444,  val accuracy: 77.42000222206116%\n",
      "Epoch 24, CIFAR-10 Batch 4:  loss: 0.061806660145521164,  val accuracy: 77.93999910354614%\n",
      "Epoch 24, CIFAR-10 Batch 5:  loss: 0.05401482433080673,  val accuracy: 76.75999999046326%\n",
      "Epoch 25, CIFAR-10 Batch 1:  loss: 0.08520080149173737,  val accuracy: 77.52000093460083%\n",
      "Epoch 25, CIFAR-10 Batch 2:  loss: 0.06525272130966187,  val accuracy: 77.78000235557556%\n",
      "Epoch 25, CIFAR-10 Batch 3:  loss: 0.05706037953495979,  val accuracy: 77.24000215530396%\n",
      "Epoch 25, CIFAR-10 Batch 4:  loss: 0.054540954530239105,  val accuracy: 77.85999774932861%\n",
      "Epoch 25, CIFAR-10 Batch 5:  loss: 0.05310801416635513,  val accuracy: 78.02000045776367%\n",
      "Epoch 26, CIFAR-10 Batch 1:  loss: 0.06450040638446808,  val accuracy: 78.03999781608582%\n",
      "Epoch 26, CIFAR-10 Batch 2:  loss: 0.08270363509654999,  val accuracy: 76.75999999046326%\n",
      "Epoch 26, CIFAR-10 Batch 3:  loss: 0.07112062722444534,  val accuracy: 75.70000290870667%\n",
      "Epoch 26, CIFAR-10 Batch 4:  loss: 0.0727410614490509,  val accuracy: 76.38000249862671%\n",
      "Epoch 26, CIFAR-10 Batch 5:  loss: 0.053864143788814545,  val accuracy: 77.03999876976013%\n",
      "Epoch 27, CIFAR-10 Batch 1:  loss: 0.05755816772580147,  val accuracy: 78.03999781608582%\n",
      "Epoch 27, CIFAR-10 Batch 2:  loss: 0.05013579875230789,  val accuracy: 78.02000045776367%\n",
      "Epoch 27, CIFAR-10 Batch 3:  loss: 0.045544542372226715,  val accuracy: 78.11999917030334%\n",
      "Epoch 27, CIFAR-10 Batch 4:  loss: 0.05955049395561218,  val accuracy: 76.75999999046326%\n",
      "Epoch 27, CIFAR-10 Batch 5:  loss: 0.046188224107027054,  val accuracy: 77.7400016784668%\n",
      "Epoch 28, CIFAR-10 Batch 1:  loss: 0.045616019517183304,  val accuracy: 78.06000113487244%\n",
      "Epoch 28, CIFAR-10 Batch 2:  loss: 0.047007493674755096,  val accuracy: 78.43999862670898%\n",
      "Epoch 28, CIFAR-10 Batch 3:  loss: 0.06147714704275131,  val accuracy: 76.35999917984009%\n",
      "Epoch 28, CIFAR-10 Batch 4:  loss: 0.05022435635328293,  val accuracy: 78.1000018119812%\n",
      "Epoch 28, CIFAR-10 Batch 5:  loss: 0.046965114772319794,  val accuracy: 78.02000045776367%\n",
      "Epoch 29, CIFAR-10 Batch 1:  loss: 0.04954111576080322,  val accuracy: 78.75999808311462%\n",
      "Epoch 29, CIFAR-10 Batch 2:  loss: 0.04844815656542778,  val accuracy: 77.89999842643738%\n",
      "Epoch 29, CIFAR-10 Batch 3:  loss: 0.0564897246658802,  val accuracy: 76.92000269889832%\n",
      "Epoch 29, CIFAR-10 Batch 4:  loss: 0.051661182194948196,  val accuracy: 78.15999984741211%\n",
      "Epoch 29, CIFAR-10 Batch 5:  loss: 0.03586430847644806,  val accuracy: 77.38000154495239%\n",
      "Epoch 30, CIFAR-10 Batch 1:  loss: 0.040257446467876434,  val accuracy: 77.66000032424927%\n",
      "Epoch 30, CIFAR-10 Batch 2:  loss: 0.03713648021221161,  val accuracy: 77.97999978065491%\n",
      "Epoch 30, CIFAR-10 Batch 3:  loss: 0.02881881594657898,  val accuracy: 77.85999774932861%\n",
      "Epoch 30, CIFAR-10 Batch 4:  loss: 0.04146137088537216,  val accuracy: 77.7999997138977%\n",
      "Epoch 30, CIFAR-10 Batch 5:  loss: 0.041727881878614426,  val accuracy: 77.60000228881836%\n"
     ]
    }
   ],
   "source": [
    "\"\"\"\n",
    "DON'T MODIFY ANYTHING IN THIS CELL\n",
    "\"\"\"\n",
    "save_model_path = './image_classification'\n",
    "\n",
    "print('Training...')\n",
    "with tf.Session() as sess:\n",
    "    # Initializing the variables\n",
    "    sess.run(tf.global_variables_initializer())\n",
    "    \n",
    "    # Training cycle\n",
    "    for epoch in range(epochs):\n",
    "        # Loop over all batches\n",
    "        n_batches = 5\n",
    "        for batch_i in range(1, n_batches + 1):\n",
    "            for batch_features, batch_labels in helper.load_preprocess_training_batch(batch_i, batch_size):\n",
    "                train_neural_network(sess, optimizer, keep_probability, batch_features, batch_labels)\n",
    "            print('Epoch {:>2}, CIFAR-10 Batch {}:  '.format(epoch + 1, batch_i), end='')\n",
    "            print_stats(sess, batch_features, batch_labels, cost, accuracy)\n",
    "            \n",
    "    # Save Model\n",
    "    saver = tf.train.Saver()\n",
    "    save_path = saver.save(sess, save_model_path)"
   ]
  },
  {
   "cell_type": "markdown",
   "metadata": {},
   "source": [
    "# Checkpoint\n",
    "The model has been saved to disk.\n",
    "## Test Model\n",
    "Test your model against the test dataset.  This will be your final accuracy. You should have an accuracy greater than 50%. If you don't, keep tweaking the model architecture and parameters."
   ]
  },
  {
   "cell_type": "code",
   "execution_count": 116,
   "metadata": {},
   "outputs": [
    {
     "name": "stdout",
     "output_type": "stream",
     "text": [
      "Testing Accuracy: 0.776953125\n",
      "\n"
     ]
    },
    {
     "data": {
      "image/png": "[encoded data removed]",
      "text/plain": [
       "<matplotlib.figure.Figure at 0x10ae22e48>"
      ]
     },
     "metadata": {
      "image/png": {
       "height": 319,
       "width": 355
      }
     },
     "output_type": "display_data"
    }
   ],
   "source": [
    "\"\"\"\n",
    "DON'T MODIFY ANYTHING IN THIS CELL\n",
    "\"\"\"\n",
    "%matplotlib inline\n",
    "%config InlineBackend.figure_format = 'retina'\n",
    "\n",
    "import tensorflow as tf\n",
    "import pickle\n",
    "import helper\n",
    "import random\n",
    "\n",
    "# Set batch size if not already set\n",
    "try:\n",
    "    if batch_size:\n",
    "        pass\n",
    "except NameError:\n",
    "    batch_size = 64\n",
    "\n",
    "save_model_path = './image_classification'\n",
    "n_samples = 4\n",
    "top_n_predictions = 3\n",
    "\n",
    "def test_model():\n",
    "    \"\"\"\n",
    "    Test the saved model against the test dataset\n",
    "    \"\"\"\n",
    "\n",
    "    test_features, test_labels = pickle.load(open('preprocess_training.p', mode='rb'))\n",
    "    loaded_graph = tf.Graph()\n",
    "\n",
    "    with tf.Session(graph=loaded_graph) as sess:\n",
    "        # Load model\n",
    "        loader = tf.train.import_meta_graph(save_model_path + '.meta')\n",
    "        loader.restore(sess, save_model_path)\n",
    "\n",
    "        # Get Tensors from loaded model\n",
    "        loaded_x = loaded_graph.get_tensor_by_name('x:0')\n",
    "        loaded_y = loaded_graph.get_tensor_by_name('y:0')\n",
    "        loaded_keep_prob = loaded_graph.get_tensor_by_name('keep_prob:0')\n",
    "        loaded_logits = loaded_graph.get_tensor_by_name('logits:0')\n",
    "        loaded_acc = loaded_graph.get_tensor_by_name('accuracy:0')\n",
    "        \n",
    "        # Get accuracy in batches for memory limitations\n",
    "        test_batch_acc_total = 0\n",
    "        test_batch_count = 0\n",
    "        \n",
    "        for train_feature_batch, train_label_batch in helper.batch_features_labels(test_features, test_labels, batch_size):\n",
    "            test_batch_acc_total += sess.run(\n",
    "                loaded_acc,\n",
    "                feed_dict={loaded_x: train_feature_batch, loaded_y: train_label_batch, loaded_keep_prob: 1.0})\n",
    "            test_batch_count += 1\n",
    "\n",
    "        print('Testing Accuracy: {}\\n'.format(test_batch_acc_total/test_batch_count))\n",
    "\n",
    "        # Print Random Samples\n",
    "        random_test_features, random_test_labels = tuple(zip(*random.sample(list(zip(test_features, test_labels)), n_samples)))\n",
    "        random_test_predictions = sess.run(\n",
    "            tf.nn.top_k(tf.nn.softmax(loaded_logits), top_n_predictions),\n",
    "            feed_dict={loaded_x: random_test_features, loaded_y: random_test_labels, loaded_keep_prob: 1.0})\n",
    "        helper.display_image_predictions(random_test_features, random_test_labels, random_test_predictions)\n",
    "\n",
    "\n",
    "test_model()"
   ]
  },
  {
   "cell_type": "markdown",
   "metadata": {},
   "source": [
    "## Why 50-80% Accuracy?\n",
    "You might be wondering why you can't get an accuracy any higher. First things first, 50% isn't bad for a simple CNN.  Pure guessing would get you 10% accuracy. That's because there are many more techniques that can be applied to your model and we recemmond that once you are done with this project, you explore!\n",
    "\n",
    "## Submitting This Project\n",
    "When submitting this project, make sure to run all the cells before saving the notebook.  Save the notebook file as \"image_classification.ipynb\" and save it as a HTML file under \"File\" -> \"Download as\".  Include the \"helper.py\" and \"problem_unittests.py\" files in your submission."
   ]
  }
 ],
 "metadata": {
  "kernelspec": {
   "display_name": "Python 3",
   "language": "python",
   "name": "python3"
  },
  "language_info": {
   "codemirror_mode": {
    "name": "ipython",
    "version": 3
   },
   "file_extension": ".py",
   "mimetype": "text/x-python",
   "name": "python",
   "nbconvert_exporter": "python",
   "pygments_lexer": "ipython3",
   "version": "3.5.3"
  }
 },
 "nbformat": 4,
 "nbformat_minor": 1
}
